{
 "cells": [
  {
   "cell_type": "code",
   "execution_count": 1,
   "metadata": {},
   "outputs": [],
   "source": [
    "# !pip install gitpython"
   ]
  },
  {
   "cell_type": "code",
   "execution_count": 2,
   "metadata": {},
   "outputs": [],
   "source": [
    "# Imports\n",
    "\n",
    "import os\n",
    "import shutil\n",
    "from git import Repo\n",
    "from pprint import pprint"
   ]
  },
  {
   "cell_type": "code",
   "execution_count": 3,
   "metadata": {},
   "outputs": [],
   "source": [
    "# Todo: Is there a way to only get the texts folder on first pass?\n",
    "\n",
    "try:\n",
    "    shutil.rmtree('temp')\n",
    "except:\n",
    "    pass\n",
    "\n",
    "Repo.clone_from('https://github.com/tesserae/tesserae','temp');"
   ]
  },
  {
   "cell_type": "code",
   "execution_count": 4,
   "metadata": {},
   "outputs": [],
   "source": [
    "# Copy texts folder\n",
    "\n",
    "try:\n",
    "    shutil.rmtree('texts')\n",
    "except:\n",
    "    pass\n",
    "\n",
    "shutil.copytree('temp/texts/grc', 'texts')\n",
    "\n",
    "try:\n",
    "    shutil.rmtree('temp')\n",
    "except:\n",
    "    pass"
   ]
  },
  {
   "cell_type": "code",
   "execution_count": 5,
   "metadata": {},
   "outputs": [],
   "source": [
    "# Remove Tesserae combined texts\n",
    "\n",
    "contents = [file for file in sorted(os.listdir('texts'))]\n",
    "\n",
    "for content in contents:\n",
    "    if content.endswith('.tess') and content.replace('.tess','') in contents:\n",
    "        os.remove(f'texts/{content}')   "
   ]
  },
  {
   "cell_type": "code",
   "execution_count": 6,
   "metadata": {},
   "outputs": [],
   "source": [
    "# Copy to main texts folder & cleanup\n",
    "try:\n",
    "    shutil.rmtree('../texts')\n",
    "except:\n",
    "    pass\n",
    "\n",
    "os.makedirs('../texts')\n",
    "\n",
    "for root, dirs, files in os.walk(\"texts\"):\n",
    "    for file in files:\n",
    "        if file.endswith(\".tess\"):\n",
    "            shutil.move(os.path.join(root, file), f'../texts/{file}')\n",
    "            \n",
    "try:\n",
    "    shutil.rmtree('texts')\n",
    "except:\n",
    "    pass            "
   ]
  }
 ],
 "metadata": {
  "kernelspec": {
   "display_name": "Python 3",
   "language": "python",
   "name": "python3"
  },
  "language_info": {
   "codemirror_mode": {
    "name": "ipython",
    "version": 3
   },
   "file_extension": ".py",
   "mimetype": "text/x-python",
   "name": "python",
   "nbconvert_exporter": "python",
   "pygments_lexer": "ipython3",
   "version": "3.8.5"
  }
 },
 "nbformat": 4,
 "nbformat_minor": 4
}
